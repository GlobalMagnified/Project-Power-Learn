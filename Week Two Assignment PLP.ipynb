{
 "cells": [
  {
   "cell_type": "markdown",
   "id": "a647939f-25e6-4138-a13c-a55305cef2e1",
   "metadata": {},
   "source": [
    "## Week Two Assignment\n",
    "\n",
    "### Description\n",
    "\n",
    "**Submit a github repo link for the assignment below**\n",
    "\n",
    "1. Create an empty list called my_list.\n",
    "2. Append the following elements to my_list: 10, 20, 30, 40.\n",
    "3. Insert the value 15 at the second position in the list.\n",
    "4. Extend my_list with another list: [50, 60, 70].\n",
    "5. Remove the last element from my_list.\n",
    "6. Sort my_list in ascending order.\n",
    "7. Find and print the index of the value 30 in my_list."
   ]
  },
  {
   "cell_type": "code",
   "execution_count": 28,
   "id": "21c97cc8-fd01-436d-8c15-07d459061130",
   "metadata": {},
   "outputs": [],
   "source": [
    "# Create an empty list called my_list.\n",
    "\n",
    "my_list = []"
   ]
  },
  {
   "cell_type": "code",
   "execution_count": 29,
   "id": "4aef4f5c-64ef-44b3-966b-34730f6a8bb0",
   "metadata": {},
   "outputs": [
    {
     "data": {
      "text/plain": [
       "[[10, 20, 30, 40]]"
      ]
     },
     "execution_count": 29,
     "metadata": {},
     "output_type": "execute_result"
    }
   ],
   "source": [
    "# Append the following elements to my_list: 10, 20, 30, 40.\n",
    "\n",
    "my_list.append([10, 20, 30, 40])\n",
    "my_list"
   ]
  },
  {
   "cell_type": "code",
   "execution_count": 30,
   "id": "70ea89c0-52be-4843-9702-b32af5a7611c",
   "metadata": {},
   "outputs": [
    {
     "data": {
      "text/plain": [
       "[[10, 15, 20, 30, 40]]"
      ]
     },
     "execution_count": 30,
     "metadata": {},
     "output_type": "execute_result"
    }
   ],
   "source": [
    "# Insert the value 15 at the second position in the list.\n",
    "\n",
    "my_list[0].insert(1, 15)\n",
    "my_list"
   ]
  },
  {
   "cell_type": "code",
   "execution_count": 31,
   "id": "1bbcc04f-bba3-4457-a8a6-3e46eaad0f6d",
   "metadata": {},
   "outputs": [
    {
     "data": {
      "text/plain": [
       "[[10, 15, 20, 30, 40, 50, 60, 70]]"
      ]
     },
     "execution_count": 31,
     "metadata": {},
     "output_type": "execute_result"
    }
   ],
   "source": [
    "# Extend my_list with another list: [50, 60, 70].\n",
    "\n",
    "my_list[0].extend([50, 60, 70])\n",
    "my_list"
   ]
  },
  {
   "cell_type": "code",
   "execution_count": 32,
   "id": "23ede223-5c84-4403-8c57-1ae3eca99a06",
   "metadata": {},
   "outputs": [
    {
     "data": {
      "text/plain": [
       "[[10, 15, 20, 30, 40, 50, 60]]"
      ]
     },
     "execution_count": 32,
     "metadata": {},
     "output_type": "execute_result"
    }
   ],
   "source": [
    "# Remove the last element from my_list.\n",
    "\n",
    "del my_list[0][-1]\n",
    "\n",
    "my_list"
   ]
  },
  {
   "cell_type": "code",
   "execution_count": 35,
   "id": "84f7c916-867f-479e-9a38-7a7a3699fc31",
   "metadata": {},
   "outputs": [
    {
     "data": {
      "text/plain": [
       "[[10, 15, 20, 30, 40, 50, 60]]"
      ]
     },
     "execution_count": 35,
     "metadata": {},
     "output_type": "execute_result"
    }
   ],
   "source": [
    "# Sort my_list in ascending order.\n",
    "\n",
    "my_list.sort(key=None, reverse = False)\n",
    "\n",
    "my_list"
   ]
  },
  {
   "cell_type": "code",
   "execution_count": 39,
   "id": "72fa6efc-61f6-436f-b563-bda07e7334c6",
   "metadata": {},
   "outputs": [
    {
     "name": "stdout",
     "output_type": "stream",
     "text": [
      "3\n"
     ]
    }
   ],
   "source": [
    "# Find and print the index of the value 30 in my_list.\n",
    "\n",
    "print (my_list[0].index(30))"
   ]
  },
  {
   "cell_type": "code",
   "execution_count": null,
   "id": "0633fc41-2315-4b8f-8225-093bfde299e5",
   "metadata": {},
   "outputs": [],
   "source": []
  }
 ],
 "metadata": {
  "kernelspec": {
   "display_name": "Python [conda env:base] *",
   "language": "python",
   "name": "conda-base-py"
  },
  "language_info": {
   "codemirror_mode": {
    "name": "ipython",
    "version": 3
   },
   "file_extension": ".py",
   "mimetype": "text/x-python",
   "name": "python",
   "nbconvert_exporter": "python",
   "pygments_lexer": "ipython3",
   "version": "3.12.7"
  }
 },
 "nbformat": 4,
 "nbformat_minor": 5
}
