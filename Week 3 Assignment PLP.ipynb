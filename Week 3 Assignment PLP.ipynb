{
 "cells": [
  {
   "cell_type": "markdown",
   "id": "ebb5e6dc-87f2-42b8-92dc-9296ebeb3f9d",
   "metadata": {},
   "source": [
    "## Week 3 Assignment\n",
    "\n",
    "### Description\n",
    "\n",
    "**Submit a github repo link for the assignment below**\n",
    "\n",
    "* Create a function named calculate_discount(price, discount_percent) that calculates the final price after applying a discount. The function should take the original price (price) and the discount percentage (discount_percent) as parameters. If the discount is 20% or higher, apply the discount; otherwise, return the original price.\n",
    "* Using the calculate_discount function, prompt the user to enter the original price of an item and the discount percentage. Print the final price after applying the discount, or if no discount was applied, print the original price."
   ]
  },
  {
   "cell_type": "code",
   "execution_count": 1,
   "id": "e831cf36-d1d2-4d38-8c78-2ac640a685f1",
   "metadata": {},
   "outputs": [],
   "source": [
    "# Create a function named calculate_discount(price, discount_percent)\n",
    "def calculate_discount(price, discount_percent):\n",
    "    \n",
    "    \"\"\"\n",
    "    Calculate the final price after applying discount.\n",
    "    Apply discount only if discount_percent is 20% or higher.\n",
    "    \"\"\"\n",
    "    \n",
    "    if discount_percent >= 20:\n",
    "        discount_amount = price * (discount_percent / 100)\n",
    "        return price - discount_amount\n",
    "        \n",
    "    else:\n",
    "        return price"
   ]
  },
  {
   "cell_type": "code",
   "execution_count": 4,
   "id": "8d8b4904-16c4-4943-9dd9-2d29a9846646",
   "metadata": {},
   "outputs": [
    {
     "name": "stdin",
     "output_type": "stream",
     "text": [
      "Enter the actual price of the item ($):  850\n",
      "Enter the discounted percentage (%):  23\n"
     ]
    },
    {
     "name": "stdout",
     "output_type": "stream",
     "text": [
      "You won a discount on your order. Final price: $654.50\n"
     ]
    }
   ],
   "source": [
    "# Prompt the user for input parameters\n",
    "\n",
    "try:\n",
    "    price = float(input(\"Enter the actual price of the item ($): \"))\n",
    "    discount_percent = float(input(\"Enter the discounted percentage (%): \"))\n",
    "\n",
    "    # Calculate the final price\n",
    "    final_price = calculate_discount(price, discount_percent)\n",
    "\n",
    "    # Display result\n",
    "    if discount_percent >= 20:\n",
    "        print(f\"You won a discount on your order. Final price: ${final_price:.2f}\")\n",
    "    else:\n",
    "        print(f\"No discount available on your order. Final price: ${final_price:.2f}\")\n",
    "\n",
    "except ValueError:\n",
    "    print(\"Please enter valid numeric inputs for price and discount.\")"
   ]
  },
  {
   "cell_type": "code",
   "execution_count": null,
   "id": "8affc96c-10c2-47ea-912d-bb87eedcd9db",
   "metadata": {},
   "outputs": [],
   "source": []
  }
 ],
 "metadata": {
  "kernelspec": {
   "display_name": "Python [conda env:base] *",
   "language": "python",
   "name": "conda-base-py"
  },
  "language_info": {
   "codemirror_mode": {
    "name": "ipython",
    "version": 3
   },
   "file_extension": ".py",
   "mimetype": "text/x-python",
   "name": "python",
   "nbconvert_exporter": "python",
   "pygments_lexer": "ipython3",
   "version": "3.12.7"
  }
 },
 "nbformat": 4,
 "nbformat_minor": 5
}
