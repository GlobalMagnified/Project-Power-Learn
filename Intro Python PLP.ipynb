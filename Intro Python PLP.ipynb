{
 "cells": [
  {
   "cell_type": "markdown",
   "id": "53280a3b-21a1-4701-933b-d8b32d003f59",
   "metadata": {},
   "source": [
    "### Intro to Python Assignment\n",
    "### Description\n",
    "\n",
    "**Objective**\n",
    "\n",
    "Practice creating Python programs to perform arithmetic and string, experimenting with variables, and exploring data types.\n",
    "\n",
    "**Instructions:**\n",
    "\n",
    "**Basic Calculator Program**\n",
    "\n",
    "- Create a simple Python program that asks the user to input two numbers and a mathematical operation (addition, subtraction, multiplication, or division).\n",
    "- Perform the operation based on the user's input and print the result.\n",
    "- Example: If a user inputs 10, 5, and +, your program should display 10 + 5 = 15.\n",
    "\n",
    "\n",
    "\n",
    "**Note: Upload the code to GitHub and submit the GitHub link**"
   ]
  },
  {
   "cell_type": "code",
   "execution_count": 17,
   "id": "f599771d-abff-4d82-9b8a-02dd0e1c7092",
   "metadata": {},
   "outputs": [
    {
     "name": "stdout",
     "output_type": "stream",
     "text": [
      "Hello Python Lover!!!\n",
      "\n",
      "Welcome to the Basic Calculator Program!!!\n"
     ]
    }
   ],
   "source": [
    "print ('Hello Python Lover!!!')\n",
    "print ('\\nWelcome to the Basic Calculator Program!!!')"
   ]
  },
  {
   "cell_type": "code",
   "execution_count": 19,
   "id": "424e9c9a-8287-46e1-a949-bacf272dbdf5",
   "metadata": {},
   "outputs": [
    {
     "name": "stdin",
     "output_type": "stream",
     "text": [
      "What is your Name? :  sewa\n"
     ]
    }
   ],
   "source": [
    "Name = str(input(\"What is your Name? : \")).title()"
   ]
  },
  {
   "cell_type": "code",
   "execution_count": 20,
   "id": "2a163c8b-c492-4cc0-9ced-549b276f81b5",
   "metadata": {},
   "outputs": [
    {
     "name": "stdin",
     "output_type": "stream",
     "text": [
      "How old are you? :  23\n"
     ]
    }
   ],
   "source": [
    "Age = int(input(\"How old are you? : \"))"
   ]
  },
  {
   "cell_type": "code",
   "execution_count": 21,
   "id": "7ac8a560-d962-4222-ab3e-2fe2393f09d3",
   "metadata": {},
   "outputs": [
    {
     "name": "stdin",
     "output_type": "stream",
     "text": [
      "How old were you when you met your first love? :  18\n"
     ]
    }
   ],
   "source": [
    "Date = int(input(\"How old were you when you met your first love? : \"))"
   ]
  },
  {
   "cell_type": "code",
   "execution_count": 22,
   "id": "5675b312-14dc-4f0b-b5ea-3efe674b0768",
   "metadata": {},
   "outputs": [],
   "source": [
    "Interval = Age - Date"
   ]
  },
  {
   "cell_type": "code",
   "execution_count": 23,
   "id": "9fee85d2-4376-4a51-a4be-74d8385fdf62",
   "metadata": {},
   "outputs": [
    {
     "name": "stdout",
     "output_type": "stream",
     "text": [
      "Dear Sewa,  after 5 years of relationship experience, you should be married by now.\n"
     ]
    }
   ],
   "source": [
    "if Interval >=4:\n",
    "    print(f\"Dear {Name},  after {Interval} years of relationship experience, you should be married by now.\")\n",
    "\n",
    "else:\n",
    "\n",
    "    print (f\"Dear {Name}, your relationship of {Interval} years is still young, you are not qualified for marriage.\")"
   ]
  },
  {
   "cell_type": "code",
   "execution_count": null,
   "id": "ea0f4af8-d384-4001-b997-78f508ef6abb",
   "metadata": {},
   "outputs": [],
   "source": []
  }
 ],
 "metadata": {
  "kernelspec": {
   "display_name": "Python [conda env:base] *",
   "language": "python",
   "name": "conda-base-py"
  },
  "language_info": {
   "codemirror_mode": {
    "name": "ipython",
    "version": 3
   },
   "file_extension": ".py",
   "mimetype": "text/x-python",
   "name": "python",
   "nbconvert_exporter": "python",
   "pygments_lexer": "ipython3",
   "version": "3.12.7"
  }
 },
 "nbformat": 4,
 "nbformat_minor": 5
}
